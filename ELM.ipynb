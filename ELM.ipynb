{
  "nbformat": 4,
  "nbformat_minor": 0,
  "metadata": {
    "colab": {
      "name": "ELM_applied_Big_Data_Example.ipynb",
      "provenance": [],
      "collapsed_sections": [],
      "include_colab_link": true
    },
    "kernelspec": {
      "name": "python3",
      "display_name": "Python 3"
    },
    "language_info": {
      "name": "python"
    }
  },
  "cells": [
    {
      "cell_type": "markdown",
      "metadata": {
        "id": "view-in-github",
        "colab_type": "text"
      },
      "source": [
        "<a href=\"https://colab.research.google.com/github/TankerRongze/ZeRongNSCI0028_Project/blob/main/ELM.ipynb\" target=\"_parent\"><img src=\"https://colab.research.google.com/assets/colab-badge.svg\" alt=\"Open In Colab\"/></a>"
      ]
    },
    {
      "cell_type": "markdown",
      "source": [
        "ELM"
      ],
      "metadata": {
        "id": "NRk54TcoxN5C"
      }
    },
    {
      "cell_type": "code",
      "source": [
        "from google.colab import files\n",
        "# To allow access to read google drive\n",
        "from google.colab import drive\n",
        "drive.mount('/content/drive')"
      ],
      "metadata": {
        "id": "GEViE50fxTk7",
        "colab": {
          "base_uri": "https://localhost:8080/"
        },
        "outputId": "4a46ef4c-e6bd-452f-c481-9dfdd549174f"
      },
      "execution_count": 14,
      "outputs": [
        {
          "output_type": "stream",
          "name": "stdout",
          "text": [
            "Drive already mounted at /content/drive; to attempt to forcibly remount, call drive.mount(\"/content/drive\", force_remount=True).\n"
          ]
        }
      ]
    },
    {
      "cell_type": "code",
      "source": [
        "import scipy.io\n",
        "input_data = scipy.io.loadmat('/content/drive/MyDrive/Project/processed_data.mat')\n",
        "input_data"
      ],
      "metadata": {
        "id": "VENtPfS_xT4M",
        "colab": {
          "base_uri": "https://localhost:8080/"
        },
        "outputId": "25af1b4a-4c94-4441-bce8-b3db52674816"
      },
      "execution_count": 15,
      "outputs": [
        {
          "output_type": "execute_result",
          "data": {
            "text/plain": [
              "{'X': array([[1.235e+03, 8.700e+02, 5.850e+02, ..., 0.000e+00, 0.000e+00,\n",
              "         0.000e+00],\n",
              "        [1.216e+03, 8.680e+02, 5.900e+02, ..., 0.000e+00, 0.000e+00,\n",
              "         0.000e+00],\n",
              "        [1.205e+03, 8.710e+02, 5.880e+02, ..., 0.000e+00, 0.000e+00,\n",
              "         0.000e+00],\n",
              "        ...,\n",
              "        [1.203e+03, 8.510e+02, 5.210e+02, ..., 4.500e-03, 1.480e-03,\n",
              "         0.000e+00],\n",
              "        [1.193e+03, 8.380e+02, 5.310e+02, ..., 4.720e-03, 1.550e-03,\n",
              "         0.000e+00],\n",
              "        [1.246e+03, 8.100e+02, 5.440e+02, ..., 4.500e-03, 1.480e-03,\n",
              "         0.000e+00]]), 'Y': array([[400. , 505. ,  35. ],\n",
              "        [398. , 500. ,  36. ],\n",
              "        [396. , 497. ,  36.5],\n",
              "        ...,\n",
              "        [462. , 571. ,  27.5],\n",
              "        [464. , 577. ,  29. ],\n",
              "        [510. , 613. ,  25.5]]), '__globals__': [], '__header__': b'MATLAB 5.0 MAT-file, Platform: PCWIN64, Created on: Wed Nov 28 16:39:41 2018', '__version__': '1.0'}"
            ]
          },
          "metadata": {},
          "execution_count": 15
        }
      ]
    },
    {
      "cell_type": "code",
      "source": [
        "import numpy as np\n",
        "import sys\n",
        "\n",
        "# Converting Input Data\n",
        "raw_data =  input_data['X']\n",
        "# Print shape of the input raw data\n",
        "np.shape(raw_data)\n",
        "# Converting target vector into numpy target vector (Matrix: 63,162 rows X 3 columns)\n",
        "target_data =  input_data['Y']\n",
        "# RENAMING input data \n",
        "X = raw_data\n",
        "Y = target_data\n",
        "# An alternative to have a look of the shape of the input data\n",
        "# print(X.shape,np.shape(Y), X.dtype,Y.dtype)"
      ],
      "metadata": {
        "id": "Y4ohEeR4zkcl"
      },
      "execution_count": 16,
      "outputs": []
    },
    {
      "cell_type": "markdown",
      "source": [
        "**Selecting only one target, NOTE in order to model the three targets given above you need to run this code three times selcting the corresponding output**"
      ],
      "metadata": {
        "id": "6Xvy0vXDRQ_U"
      }
    },
    {
      "cell_type": "code",
      "source": [
        "#Selecting only one TARGET at a time\n",
        "T = Y[:,0]\n",
        "T.shape"
      ],
      "metadata": {
        "id": "yjA4X0YZ_7Hq",
        "colab": {
          "base_uri": "https://localhost:8080/"
        },
        "outputId": "4741ecea-6811-47a7-801c-eaa5d195a6ff"
      },
      "execution_count": 17,
      "outputs": [
        {
          "output_type": "execute_result",
          "data": {
            "text/plain": [
              "(63162,)"
            ]
          },
          "metadata": {},
          "execution_count": 17
        }
      ]
    },
    {
      "cell_type": "markdown",
      "source": [
        "# **INCLUDING THE PACKAGE FOR EXTREME LEARNING MACHINE (NOT AVAILLABLE IN STANDARD LIBRARIES OF PYTHON)**"
      ],
      "metadata": {
        "id": "J4D3dS5FRe6u"
      }
    },
    {
      "cell_type": "code",
      "source": [
        "#  Include this to copy elm into your workspace\n",
        "!cp /content/drive/MyDrive/Project/elm.py /content"
      ],
      "metadata": {
        "id": "cJ4EscinCI4t"
      },
      "execution_count": 18,
      "outputs": []
    },
    {
      "cell_type": "markdown",
      "source": [
        "# LIBRARIES for plotting results and normalization of input data and Split of Input Data"
      ],
      "metadata": {
        "id": "1Xy3BTHpTZU1"
      }
    },
    {
      "cell_type": "code",
      "source": [
        "import elm\n",
        "import numpy as np\n",
        "from sklearn.model_selection import train_test_split\n",
        "from sklearn.datasets import load_iris, load_digits, load_diabetes, make_regression\n",
        "from sklearn.preprocessing import StandardScaler\n",
        "import matplotlib.pyplot as plt\n",
        "\n",
        "from sklearn.preprocessing import MinMaxScaler\n",
        "\n",
        "# Normal distribution\n",
        "# stdsc = StandardScaler()\n",
        "# xtoy = stdsc.fit_transform(X)\n",
        "\n",
        "#______________________________________mapminmax_____Normalization\n",
        "scaler = MinMaxScaler()\n",
        "scaler.fit(X)\n",
        "X_normalized= scaler.transform(X)\n",
        "\n",
        "x_train, x_test, y_train, y_test = train_test_split(X_normalized, T, test_size=0.2,random_state = 42)\n",
        "print(x_train.shape,y_train.shape, x_test.shape,y_test.shape)"
      ],
      "metadata": {
        "id": "pmYeE1uBB-JA",
        "colab": {
          "base_uri": "https://localhost:8080/"
        },
        "outputId": "3a032bee-c95d-4036-8d1b-e703f4d05e7c"
      },
      "execution_count": 19,
      "outputs": [
        {
          "output_type": "stream",
          "name": "stdout",
          "text": [
            "(50529, 27) (50529,) (12633, 27) (12633,)\n"
          ]
        }
      ]
    },
    {
      "cell_type": "markdown",
      "source": [
        "# **Training of PERCEPTRON NEURAL NETWORK (PNN), **\n",
        "Structure of the PNN and Crossvalidation technique:\n",
        "\n",
        "\n",
        "1.   Sigmoid for hidden neurons in the hidden layer\n",
        "2.   Identity function\n",
        "3.   Hold-out Crossvalidation\n",
        "\n"
      ],
      "metadata": {
        "id": "Tw6E-B19TjqQ"
      }
    },
    {
      "cell_type": "code",
      "source": [
        "# build model and train\n",
        "model = elm.elm(hidden_units=20, activation_function='sigmoid', random_type='normal', x=x_train, y=y_train, C=5.23, elm_type='reg') \n",
        "beta, train_score, running_time = model.fit('solution1')\n",
        "print(\"regression beta:\\n\", beta)\n",
        "print(\"regression train score:\", train_score)\n",
        "print(\"regression running time:\", running_time)"
      ],
      "metadata": {
        "id": "oMDeZiWjgWKT",
        "colab": {
          "base_uri": "https://localhost:8080/"
        },
        "outputId": "cfc77a40-31c4-4eb2-98a1-991478e6f590"
      },
      "execution_count": 20,
      "outputs": [
        {
          "output_type": "stream",
          "name": "stdout",
          "text": [
            "regression beta:\n",
            " [-321.27229989  845.57309207 -413.91757792  239.37082636  167.15599621\n",
            " -568.28401809 -834.3440344  -445.31822558 -719.66790112  524.04399371\n",
            " 1762.66712622  255.48250054 -584.61892299 -819.28921641 1298.34403423\n",
            " -814.7234302   118.73118019 -126.75034251  506.11623526 -420.67246895]\n",
            "regression train score: 43.86695190899223\n",
            "regression running time: 0.1199049999999886\n"
          ]
        }
      ]
    },
    {
      "cell_type": "markdown",
      "source": [
        "# **Plotting Results of Cross-Validation**"
      ],
      "metadata": {
        "id": "OpqpW-iSUgJZ"
      }
    },
    {
      "cell_type": "code",
      "source": [
        "plt.scatter(model.y, y_train)\n",
        "plt.plot(model.y, model.y,'g-')\n",
        "plt.title(\"Scatter Plot of the data\")\n",
        "plt.xlabel(\"X\")\n",
        "plt.ylabel(\"Y\")\n",
        "plt.show()"
      ],
      "metadata": {
        "id": "ohzNudw7i1wD",
        "colab": {
          "base_uri": "https://localhost:8080/",
          "height": 295
        },
        "outputId": "c473deed-4d86-4fe4-990a-1476de636a1b"
      },
      "execution_count": 21,
      "outputs": [
        {
          "output_type": "display_data",
          "data": {
            "text/plain": [
              "<Figure size 432x288 with 1 Axes>"
            ],
            "image/png": "[encoded data removed]"
          },
          "metadata": {
            "needs_background": "light"
          }
        }
      ]
    },
    {
      "cell_type": "code",
      "source": [
        "prediction = model.predict(x_test)\n",
        "# Printing results\n",
        "print(\"regression result:\", prediction.reshape(-1, ))\n",
        "print(\"regression score:\", model.score(x_test, y_test))\n",
        "model.y\n",
        "\n",
        "plt.scatter(prediction, y_test)\n",
        "plt.plot(y_test, y_test,'r-')\n",
        "print(model.y.shape, y_test.shape)"
      ],
      "metadata": {
        "id": "qjdmXTABkuZk",
        "colab": {
          "base_uri": "https://localhost:8080/",
          "height": 338
        },
        "outputId": "221afa1b-31e0-4d8d-ebdf-88f2f18fc0f1"
      },
      "execution_count": 22,
      "outputs": [
        {
          "output_type": "stream",
          "name": "stdout",
          "text": [
            "regression result: [322.0733185  297.73657167 423.04477455 ... 220.10893329 287.03686217\n",
            " 249.75717909]\n",
            "regression score: 43.86695190899223\n",
            "(50529,) (12633,)\n"
          ]
        },
        {
          "output_type": "display_data",
          "data": {
            "text/plain": [
              "<Figure size 432x288 with 1 Axes>"
            ],
            "image/png": "[encoded data removed]"
          },
          "metadata": {
            "needs_background": "light"
          }
        }
      ]
    }
  ]
}