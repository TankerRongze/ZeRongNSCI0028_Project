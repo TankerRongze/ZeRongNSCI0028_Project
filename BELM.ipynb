{
  "nbformat": 4,
  "nbformat_minor": 0,
  "metadata": {
    "colab": {
      "name": "BELM",
      "provenance": [],
      "collapsed_sections": [],
      "include_colab_link": true
    },
    "kernelspec": {
      "name": "python3",
      "display_name": "Python 3"
    },
    "language_info": {
      "name": "python"
    }
  },
  "cells": [
    {
      "cell_type": "markdown",
      "metadata": {
        "id": "view-in-github",
        "colab_type": "text"
      },
      "source": [
        "<a href=\"https://colab.research.google.com/github/TankerRongze/ZeRongNSCI0028_Project/blob/main/BELM.ipynb\" target=\"_parent\"><img src=\"https://colab.research.google.com/assets/colab-badge.svg\" alt=\"Open In Colab\"/></a>"
      ]
    },
    {
      "cell_type": "code",
      "execution_count": 12,
      "metadata": {
        "colab": {
          "base_uri": "https://localhost:8080/"
        },
        "id": "seOxkMUnQtFk",
        "outputId": "217b6e2a-0f07-4141-c457-6046ca0667cc"
      },
      "outputs": [
        {
          "output_type": "stream",
          "name": "stdout",
          "text": [
            "Drive already mounted at /content/drive; to attempt to forcibly remount, call drive.mount(\"/content/drive\", force_remount=True).\n"
          ]
        }
      ],
      "source": [
        "# Import Libraries\n",
        "from google.colab import files\n",
        "# To allow access to read google drive\n",
        "from google.colab import drive\n",
        "drive.mount('/content/drive')"
      ]
    },
    {
      "cell_type": "code",
      "source": [
        "import scipy.io\n",
        "input_data = scipy.io.loadmat('/content/drive/MyDrive/Project/processed_data.mat')\n",
        "# Print the input_data just read some moments ago\n",
        "input_data"
      ],
      "metadata": {
        "colab": {
          "base_uri": "https://localhost:8080/"
        },
        "id": "JMAG3jYjRmjp",
        "outputId": "40dcfcee-0ac7-4abd-848e-aaa69f219e22"
      },
      "execution_count": 13,
      "outputs": [
        {
          "output_type": "execute_result",
          "data": {
            "text/plain": [
              "{'X': array([[1.235e+03, 8.700e+02, 5.850e+02, ..., 0.000e+00, 0.000e+00,\n",
              "         0.000e+00],\n",
              "        [1.216e+03, 8.680e+02, 5.900e+02, ..., 0.000e+00, 0.000e+00,\n",
              "         0.000e+00],\n",
              "        [1.205e+03, 8.710e+02, 5.880e+02, ..., 0.000e+00, 0.000e+00,\n",
              "         0.000e+00],\n",
              "        ...,\n",
              "        [1.203e+03, 8.510e+02, 5.210e+02, ..., 4.500e-03, 1.480e-03,\n",
              "         0.000e+00],\n",
              "        [1.193e+03, 8.380e+02, 5.310e+02, ..., 4.720e-03, 1.550e-03,\n",
              "         0.000e+00],\n",
              "        [1.246e+03, 8.100e+02, 5.440e+02, ..., 4.500e-03, 1.480e-03,\n",
              "         0.000e+00]]), 'Y': array([[400. , 505. ,  35. ],\n",
              "        [398. , 500. ,  36. ],\n",
              "        [396. , 497. ,  36.5],\n",
              "        ...,\n",
              "        [462. , 571. ,  27.5],\n",
              "        [464. , 577. ,  29. ],\n",
              "        [510. , 613. ,  25.5]]), '__globals__': [], '__header__': b'MATLAB 5.0 MAT-file, Platform: PCWIN64, Created on: Wed Nov 28 16:39:41 2018', '__version__': '1.0'}"
            ]
          },
          "metadata": {},
          "execution_count": 13
        }
      ]
    },
    {
      "cell_type": "code",
      "source": [
        "import numpy as np\n",
        "\n",
        "# Converting Input Data\n",
        "X_unnormalized =  input_data['X']\n",
        "print(X_unnormalized.shape)\n",
        "\n",
        "# Converting Y from MATLAB format to NUMPY format and rename it to Y_targets\n",
        "Y_targets =  input_data['Y'] # Select the target Y and pass it onto the variable called Y_targets\n",
        "\n",
        "print(Y_targets.shape)"
      ],
      "metadata": {
        "colab": {
          "base_uri": "https://localhost:8080/"
        },
        "id": "VZ8LzOcVSJx6",
        "outputId": "b3a56bd6-d590-40b8-9d90-5641a0a764fa"
      },
      "execution_count": 14,
      "outputs": [
        {
          "output_type": "stream",
          "name": "stdout",
          "text": [
            "(63162, 27)\n",
            "(63162, 3)\n"
          ]
        }
      ]
    },
    {
      "cell_type": "markdown",
      "source": [
        "Select one target to be modelled (Predicted)"
      ],
      "metadata": {
        "id": "xRjsF8TFSOTb"
      }
    },
    {
      "cell_type": "code",
      "source": [
        "#Selecting only one TARGET at a time\n",
        "T = Y_targets[:,0] # T = selected target\n",
        "T.shape"
      ],
      "metadata": {
        "colab": {
          "base_uri": "https://localhost:8080/"
        },
        "id": "idbqDL72SPW6",
        "outputId": "b5d213df-3240-461f-9dc5-9cbad6ae9449"
      },
      "execution_count": 15,
      "outputs": [
        {
          "output_type": "execute_result",
          "data": {
            "text/plain": [
              "(63162,)"
            ]
          },
          "metadata": {},
          "execution_count": 15
        }
      ]
    },
    {
      "cell_type": "code",
      "source": [
        "from sklearn.model_selection import train_test_split # split the data into training and testing\n",
        "from sklearn.preprocessing import StandardScaler  # Normalising the data\n",
        "import matplotlib.pyplot as plt # for plotting results\n",
        "from sklearn.preprocessing import MinMaxScaler # Normalizing data in the interval [0-1]"
      ],
      "metadata": {
        "id": "cv0bhikTSXh5"
      },
      "execution_count": 16,
      "outputs": []
    },
    {
      "cell_type": "code",
      "source": [
        "#  ---------     Using Normal distribution\n",
        "normalise_to_Gaussian = StandardScaler()\n",
        "X_normalised = normalise_to_Gaussian.fit_transform(X_unnormalized)\n",
        "# np.amin(X_normalised[:,0])\n",
        "np.amax(X_normalised)\n",
        "\n",
        "# Normalizing the data to the Interval [0-1]\n",
        "#  ---------     Normalise between [0-1]\n",
        "# scaler = MinMaxScaler()\n",
        "# scaler.fit(X_unnormalized)\n",
        "# X_normalised = scaler.transform(X_unnormalized)"
      ],
      "metadata": {
        "colab": {
          "base_uri": "https://localhost:8080/"
        },
        "id": "E4bu4SFNSbPi",
        "outputId": "656131c9-b995-47d2-9ef8-61d51869f2e0"
      },
      "execution_count": 17,
      "outputs": [
        {
          "output_type": "execute_result",
          "data": {
            "text/plain": [
              "156.06536641578109"
            ]
          },
          "metadata": {},
          "execution_count": 17
        }
      ]
    },
    {
      "cell_type": "code",
      "source": [
        "x_train, x_test, y_train, y_test = train_test_split(X_normalised, T, test_size=0.2,random_state = 42)\n",
        "print(x_train.shape,y_train.shape, x_test.shape,y_test.shape)"
      ],
      "metadata": {
        "colab": {
          "base_uri": "https://localhost:8080/"
        },
        "id": "8hdH4__jS4t3",
        "outputId": "3af84885-3465-4479-bad0-e3f617187a21"
      },
      "execution_count": 18,
      "outputs": [
        {
          "output_type": "stream",
          "name": "stdout",
          "text": [
            "(50529, 27) (50529,) (12633, 27) (12633,)\n"
          ]
        }
      ]
    },
    {
      "cell_type": "code",
      "source": [
        "# Importing modules that are required\n",
        "from sklearn.datasets import load_boston\n",
        "from sklearn.model_selection import train_test_split\n",
        "from sklearn.metrics import r2_score\n",
        "from sklearn.linear_model import BayesianRidge, LinearRegression\n",
        "from sklearn.metrics import mean_squared_error\n",
        "from numpy import sqrt\n",
        "   \n",
        "# # Loading dataset\n",
        "# dataset = load_boston()\n",
        "# X, y = dataset.data, dataset.target\n",
        "   \n",
        "# # Splitting dataset into training and testing sets\n",
        "# X_train, X_test, y_train, y_test = train_test_split(X, y, test_size = 0.30, random_state = 42)\n",
        "   \n",
        "# Creating and training model\n",
        "model = BayesianRidge(tol=1e-5, fit_intercept=True, compute_score=True)\n",
        "model.fit(x_train, y_train)\n",
        "   \n",
        "# Model making a prediction on test data\n",
        "prediction = model.predict(x_test)\n",
        "   \n",
        "# Evaluation of r2 score of the model against the test set\n",
        "print(f\"r2 Score Of Test Set : {r2_score(y_test, prediction)}\")\n"
      ],
      "metadata": {
        "colab": {
          "base_uri": "https://localhost:8080/"
        },
        "id": "Lwja_uF9Q_n1",
        "outputId": "7953f434-f2d2-48b5-e93c-71cea6d011b9"
      },
      "execution_count": 19,
      "outputs": [
        {
          "output_type": "stream",
          "name": "stdout",
          "text": [
            "r2 Score Of Test Set : 0.879418884558951\n"
          ]
        }
      ]
    },
    {
      "cell_type": "code",
      "source": [
        "y_pred = model.predict(x_train)\n",
        "plt.scatter(y_pred, y_train)\n",
        "mse = mean_squared_error(y_train, y_pred)\n",
        "print(\"MSE: %.2f\" % mse)\n",
        "print(\"RMSE: %.2f\" % sqrt(mse))\n",
        "plt.plot(y_train, y_train,'g-')\n",
        "plt.title(\"Prediction of the Yield Strength for Training\")\n",
        "plt.xlabel(\"Output model\")\n",
        "plt.ylabel(\"Desired Prediction (Target)\")\n",
        "plt.show()"
      ],
      "metadata": {
        "colab": {
          "base_uri": "https://localhost:8080/",
          "height": 330
        },
        "id": "7jFu56m4TN-x",
        "outputId": "2e9d2243-8346-4c80-fa4e-47f0dd5e386d"
      },
      "execution_count": 20,
      "outputs": [
        {
          "output_type": "stream",
          "name": "stdout",
          "text": [
            "MSE: 1741.95\n",
            "RMSE: 41.74\n"
          ]
        },
        {
          "output_type": "display_data",
          "data": {
            "text/plain": [
              "<Figure size 432x288 with 1 Axes>"
            ],
            "image/png": "[encoded data removed]"
          },
          "metadata": {
            "needs_background": "light"
          }
        }
      ]
    },
    {
      "cell_type": "code",
      "source": [
        "y_pred_test = model.predict(x_test)\n",
        "plt.scatter(y_pred_test, y_test)\n",
        "mse = mean_squared_error(y_test, y_pred_test)\n",
        "print(\"MSE: %.2f\" % mse)\n",
        "print(\"RMSE: %.2f\" % sqrt(mse))\n",
        "plt.plot(y_test, y_test,'g-')\n",
        "plt.title(\"Prediction of the Yield Strength for Training\")\n",
        "plt.xlabel(\"Output model\")\n",
        "plt.ylabel(\"Desired Prediction (Target)\")\n",
        "plt.show()"
      ],
      "metadata": {
        "colab": {
          "base_uri": "https://localhost:8080/",
          "height": 330
        },
        "id": "6DmSAuhMc6Tk",
        "outputId": "06171df0-d551-4ab4-bd64-b88f38040791"
      },
      "execution_count": 21,
      "outputs": [
        {
          "output_type": "stream",
          "name": "stdout",
          "text": [
            "MSE: 1793.42\n",
            "RMSE: 42.35\n"
          ]
        },
        {
          "output_type": "display_data",
          "data": {
            "text/plain": [
              "<Figure size 432x288 with 1 Axes>"
            ],
            "image/png": "[encoded data removed]"
          },
          "metadata": {
            "needs_background": "light"
          }
        }
      ]
    }
  ]
}